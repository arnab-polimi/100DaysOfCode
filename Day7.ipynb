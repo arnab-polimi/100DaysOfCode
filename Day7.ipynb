{
 "cells": [
  {
   "cell_type": "code",
   "execution_count": 47,
   "metadata": {},
   "outputs": [],
   "source": [
    "import requests\n",
    "\n",
    "word_site = \"https://www.mit.edu/~ecprice/wordlist.10000\"\n",
    "\n",
    "response = requests.get(word_site)\n",
    "WORDS = response.content.splitlines()"
   ]
  },
  {
   "cell_type": "code",
   "execution_count": 84,
   "metadata": {},
   "outputs": [
    {
     "name": "stdout",
     "output_type": "stream",
     "text": [
      "---------------------------------------------------------\n",
      "\n",
      "-------------------------HANGMAN-------------------------\n",
      "\n",
      "['_', '_', '_', '_', '_']\n",
      "Guess a letter! \n",
      "h\n",
      "correctly guessed \n",
      "\n",
      "['h', '_', '_', '_', '_']\n",
      "Guess a letter! \n",
      "o\n",
      "correctly guessed \n",
      "\n",
      "['h', 'o', '_', '_', '_']\n",
      "Guess a letter! \n",
      "r\n",
      "correctly guessed \n",
      "\n",
      "['h', 'o', 'r', '_', '_']\n",
      "Guess a letter! \n",
      "n\n",
      "correctly guessed \n",
      "\n",
      "['h', 'o', 'r', 'n', '_']\n",
      "Guess a letter! \n",
      "y\n",
      "correctly guessed \n",
      "\n",
      "['h', 'o', 'r', 'n', 'y']\n",
      "Word was horny\n"
     ]
    }
   ],
   "source": [
    "#HANGMAN\n",
    "import random\n",
    "\n",
    "print('---------------------------------------------------------\\n')\n",
    "print('-------------------------HANGMAN-------------------------\\n')\n",
    "\n",
    "word = random.choice(WORDS)\n",
    "word = str(word)\n",
    "word = word.strip(\"b\")\n",
    "word = word.strip(\"''\")\n",
    "\n",
    "\n",
    "\n",
    "life = 5\n",
    "wordList = list(word)\n",
    "blanks = []\n",
    "for i in range(len(word)):\n",
    "    blanks.append('_')\n",
    "print(blanks)\n",
    "length = len(word)\n",
    "\n",
    "while(life != 0 and length != 0):\n",
    "\n",
    "    check = input('Guess a letter! \\n')\n",
    "    if check in wordList:\n",
    "        length -= 1\n",
    "        print('correctly guessed \\n')\n",
    "        for i in range(len(word)):\n",
    "            if check == wordList[i]:\n",
    "                blanks[i] = check\n",
    "        print(blanks)\n",
    "\n",
    "        \n",
    "        \n",
    "    else:\n",
    "        life -=1\n",
    "        print('Wrong Guess, Updated life is:'+str(life))\n",
    "        \n",
    "    if lengthCheck == len(word):\n",
    "        length = False\n",
    "print('Word was ' + str(word))\n",
    "\n",
    "\n",
    "            \n"
   ]
  },
  {
   "cell_type": "code",
   "execution_count": null,
   "metadata": {},
   "outputs": [],
   "source": []
  },
  {
   "cell_type": "code",
   "execution_count": null,
   "metadata": {},
   "outputs": [],
   "source": []
  },
  {
   "cell_type": "code",
   "execution_count": null,
   "metadata": {},
   "outputs": [],
   "source": []
  }
 ],
 "metadata": {
  "kernelspec": {
   "display_name": "Python 3",
   "language": "python",
   "name": "python3"
  },
  "language_info": {
   "codemirror_mode": {
    "name": "ipython",
    "version": 3
   },
   "file_extension": ".py",
   "mimetype": "text/x-python",
   "name": "python",
   "nbconvert_exporter": "python",
   "pygments_lexer": "ipython3",
   "version": "3.8.3"
  }
 },
 "nbformat": 4,
 "nbformat_minor": 4
}
