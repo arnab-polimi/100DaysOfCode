{
 "cells": [
  {
   "cell_type": "code",
   "execution_count": 15,
   "metadata": {},
   "outputs": [
    {
     "name": "stdout",
     "output_type": "stream",
     "text": [
      "Hello\n"
     ]
    }
   ],
   "source": [
    "print(\"Hello\"[:])"
   ]
  },
  {
   "cell_type": "code",
   "execution_count": 19,
   "metadata": {},
   "outputs": [
    {
     "name": "stdout",
     "output_type": "stream",
     "text": [
      "Please tell me your name! \n",
      "Arnab\n",
      "Your name has 5 characters\n"
     ]
    }
   ],
   "source": [
    "num_char = len(input(\"Please tell me your name! \\n\"))\n",
    "print(\"Your name has \"+str(num_char)+\" characters\")"
   ]
  },
  {
   "cell_type": "code",
   "execution_count": 22,
   "metadata": {},
   "outputs": [
    {
     "name": "stdout",
     "output_type": "stream",
     "text": [
      "Enter your two-digit number here, please: 67\n",
      "13\n"
     ]
    }
   ],
   "source": [
    "#add the digits of a two digit number\n",
    "number = input(\"Enter your two-digit number here, please: \")\n",
    "sum = 0\n",
    "for elem in number:\n",
    "    sum = sum + int(elem)\n",
    "print(sum)"
   ]
  },
  {
   "cell_type": "code",
   "execution_count": 4,
   "metadata": {},
   "outputs": [
    {
     "name": "stdout",
     "output_type": "stream",
     "text": [
      "Please enter your total bill \n",
      "124.56\n",
      "How many people are there to split the bill amongst ? \n",
      "7\n",
      "What tip percentage do you plan to give? (10,12,15) \n",
      "12\n",
      "Each person will have to pay \n",
      "19.9296\n"
     ]
    }
   ],
   "source": [
    "#Tip Calculator\n",
    "\n",
    "total_Bill = input('Please enter your total bill \\n')\n",
    "total_Bill = float(total_Bill)\n",
    "num_People = input('How many people are there to split the bill amongst ? \\n')\n",
    "num_People = int(num_People)\n",
    "\n",
    "tip_Percent = input('What tip percentage do you plan to give? (10,12,15) \\n')\n",
    "tip_Percent = int(tip_Percent)\n",
    "\n",
    "total_Bill = total_Bill*(tip_Percent/100) + total_Bill\n",
    "print('Each person will have to pay \\n'+ str(total_Bill/num_People))\n"
   ]
  },
  {
   "cell_type": "code",
   "execution_count": null,
   "metadata": {},
   "outputs": [],
   "source": []
  }
 ],
 "metadata": {
  "kernelspec": {
   "display_name": "Python 3",
   "language": "python",
   "name": "python3"
  },
  "language_info": {
   "codemirror_mode": {
    "name": "ipython",
    "version": 3
   },
   "file_extension": ".py",
   "mimetype": "text/x-python",
   "name": "python",
   "nbconvert_exporter": "python",
   "pygments_lexer": "ipython3",
   "version": "3.8.3"
  }
 },
 "nbformat": 4,
 "nbformat_minor": 4
}
