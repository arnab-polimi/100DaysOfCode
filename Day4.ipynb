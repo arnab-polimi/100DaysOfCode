{
 "cells": [
  {
   "cell_type": "code",
   "execution_count": 92,
   "metadata": {},
   "outputs": [],
   "source": [
    " #Day 4 (random numbers!)"
   ]
  },
  {
   "cell_type": "code",
   "execution_count": 95,
   "metadata": {},
   "outputs": [],
   "source": [
    "import random\n",
    "import time\n",
    "from matplotlib import pyplot as plt"
   ]
  },
  {
   "cell_type": "code",
   "execution_count": null,
   "metadata": {},
   "outputs": [
    {
     "name": "stdout",
     "output_type": "stream",
     "text": [
      "Comp plays Scissors\n",
      "Rock (R), Paper(P), Scissors (S)? \n",
      "R\n",
      "You win, because Rock beats Scissors \n",
      "\n",
      "Do you wanna continue? \n",
      " yes nor no \n",
      "yes\n",
      "Comp plays Scissors\n",
      "Rock (R), Paper(P), Scissors (S)? \n",
      "P\n",
      "You lose, because Scissors beat Paper \n",
      "\n",
      "Do you wanna continue? \n",
      " yes nor no \n",
      "yes\n",
      "Comp plays Scissors\n"
     ]
    }
   ],
   "source": [
    "#RPS\n",
    "flag = 'yes'\n",
    "score = 0\n",
    "move = ['Rock','Paper','Scissors']\n",
    "\n",
    "while(flag == 'yes'): \n",
    "    \n",
    "    randomInt = random.randint(0,2)\n",
    "    print('Comp plays '+ str(move[randomInt]))\n",
    "    yourMove = input('Rock (R), Paper(P), Scissors (S)? \\n')\n",
    "    time.sleep(0.5)\n",
    "    if yourMove == 'R' and move[randomInt] == 'Rock':\n",
    "        print('Draw \\n')\n",
    "        randomInt = random.randint(0,2)\n",
    "    elif yourMove == 'R' and move[randomInt] == 'Paper':\n",
    "        print('You lose, because opponent played Paper \\n')\n",
    "        randomInt = random.randint(0,2)\n",
    "    elif yourMove == 'R' and move[randomInt] == 'Scissors':\n",
    "        print('You win, because Rock beats Scissors \\n')\n",
    "        score+=1\n",
    "        randomInt = random.randint(0,2)\n",
    "    elif yourMove == 'P' and move[randomInt] == 'Paper':\n",
    "        print('Draw \\n')\n",
    "        randomInt = random.randint(0,2)\n",
    "    elif yourMove == 'P' and move[randomInt] == 'Rock':\n",
    "        print('You win, because Paper beats Rock \\n')\n",
    "        randomInt = random.randint(0,2)\n",
    "        score+=1\n",
    "    elif yourMove == 'P' and move[randomInt] == 'Scissors':\n",
    "        print('You lose, because Scissors beat Paper \\n')\n",
    "        randomInt = random.randint(0,2)\n",
    "    elif yourMove == 'S' and move[randomInt] == 'Paper':\n",
    "        print('You Win, Scissors beat Paper \\n')\n",
    "        randomInt = random.randint(0,2)\n",
    "        score+=1\n",
    "    elif yourMove == 'S' and move[randomInt] == 'Rock':\n",
    "        print('You lose, Paper loses to Rock \\n')\n",
    "        randomInt = random.randint(0,2)\n",
    "    elif yourMove == 'S' and move[randomInt] == 'Scissors':\n",
    "        print('Draw \\n')\n",
    "        randomInt = random.randint(0,2)\n",
    "    flag = input('Do you wanna continue? \\n yes nor no \\n')\n",
    "    if flag == 'yes':\n",
    "        continue\n",
    "    else:\n",
    "        break\n",
    "        \n",
    "print('your score is: '+ str(score))\n",
    "\n"
   ]
  },
  {
   "cell_type": "code",
   "execution_count": null,
   "metadata": {},
   "outputs": [],
   "source": []
  }
 ],
 "metadata": {
  "kernelspec": {
   "display_name": "Python 3",
   "language": "python",
   "name": "python3"
  }
 },
 "nbformat": 4,
 "nbformat_minor": 4
}
