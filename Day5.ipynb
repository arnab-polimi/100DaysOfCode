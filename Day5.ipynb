{
 "cells": [
  {
   "cell_type": "code",
   "execution_count": 1,
   "metadata": {},
   "outputs": [],
   "source": [
    "#password Generator"
   ]
  },
  {
   "cell_type": "code",
   "execution_count": 4,
   "metadata": {},
   "outputs": [],
   "source": [
    "import random\n",
    "import string\n",
    "from datetime import datetime\n"
   ]
  },
  {
   "cell_type": "code",
   "execution_count": 28,
   "metadata": {},
   "outputs": [
    {
     "name": "stdout",
     "output_type": "stream",
     "text": [
      "--------------------------------------------------------------------------------------\n",
      "\n",
      "--------------------------------WELCOME TO MY PASSWORD GENERATOR----------------------\n",
      "\n",
      "How many letters do you want in your password? \n",
      "3\n",
      "How many symbols do you want in your password? \n",
      "3\n",
      "t_1H62A#$501\n"
     ]
    }
   ],
   "source": [
    "#Password Generator V1\n",
    "\n",
    "print(\"--------------------------------------------------------------------------------------\\n\")\n",
    "print(\"--------------------------------WELCOME TO MY PASSWORD GENERATOR----------------------\\n\")\n",
    "specialChar = string.punctuation\n",
    "stringChar = string.ascii_letters\n",
    "symbol = string.punctuation\n",
    "now = datetime.now()\n",
    "currentTime = now.strftime(\"%H%M%S\")\n",
    "\n",
    "\n",
    "numLetters = int(input(f\"How many letters do you want in your password? \\n\"))\n",
    "numSym = int(input(f\"How many symbols do you want in your password? \\n\"))\n",
    "#numbers = int(input(f\"How many numbers do you want in your password? \\n\"))\n",
    "\n",
    "pwd1 = ''.join(random.choice(stringChar) for i in range(numLetters))\n",
    "pwd2 = ''.join(random.choice(symbol) for i in range(numSym) )\n",
    "pwd3 = ''.join(currentTime)\n",
    "finalPwd = pwd1+pwd2+str(pwd3)\n",
    "finalPwd = list(finalPwd)\n",
    "random.shuffle(finalPwd)\n",
    "#print(finalPwd)\n",
    "finalPwd2 = ''.join(str(i) for i in finalPwd)\n",
    "print(finalPwd2)"
   ]
  },
  {
   "cell_type": "markdown",
   "metadata": {},
   "source": [
    "### "
   ]
  }
 ],
 "metadata": {
  "kernelspec": {
   "display_name": "Python 3",
   "language": "python",
   "name": "python3"
  },
  "language_info": {
   "codemirror_mode": {
    "name": "ipython",
    "version": 3
   },
   "file_extension": ".py",
   "mimetype": "text/x-python",
   "name": "python",
   "nbconvert_exporter": "python",
   "pygments_lexer": "ipython3",
   "version": "3.8.3"
  }
 },
 "nbformat": 4,
 "nbformat_minor": 4
}
