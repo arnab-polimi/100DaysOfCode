{
 "cells": [
  {
   "cell_type": "code",
   "execution_count": null,
   "metadata": {},
   "outputs": [],
   "source": [
    "#password Generator"
   ]
  },
  {
   "cell_type": "code",
   "execution_count": 30,
   "metadata": {},
   "outputs": [
    {
     "name": "stdout",
     "output_type": "stream",
     "text": [
      "101534\n"
     ]
    }
   ],
   "source": [
    "import random\n",
    "import string\n",
    "from datetime import datetime\n"
   ]
  },
  {
   "cell_type": "code",
   "execution_count": 42,
   "metadata": {},
   "outputs": [
    {
     "name": "stdout",
     "output_type": "stream",
     "text": [
      "How many characters do you want in your password? (must be above 6) \n",
      "12\n",
      "spSMOt102802\n"
     ]
    }
   ],
   "source": [
    "numChar = input('How many characters do you want in your password? (must be above 6) \\n')\n",
    "numChar = int(numChar)\n",
    "specialChar = string.punctuation\n",
    "stringChars = string.ascii_letters\n",
    "pwd = []\n",
    "now = datetime.now()\n",
    "PWD1 =   ''.join(random.choice(stringChars) for i in range(numChar-6)) \n",
    "#PWD2 =  ''.join(random.choice(specialChar) for i in range(1)) \n",
    "PWD3 = current_time = now.strftime(\"%H%M%S\")\n",
    "randomPwd = PWD1 + str(PWD3)\n",
    "print(randomPwd)"
   ]
  },
  {
   "cell_type": "code",
   "execution_count": null,
   "metadata": {},
   "outputs": [],
   "source": []
  }
 ],
 "metadata": {
  "kernelspec": {
   "display_name": "Python 3",
   "language": "python",
   "name": "python3"
  },
  "language_info": {
   "codemirror_mode": {
    "name": "ipython",
    "version": 3
   },
   "file_extension": ".py",
   "mimetype": "text/x-python",
   "name": "python",
   "nbconvert_exporter": "python",
   "pygments_lexer": "ipython3",
   "version": "3.8.3"
  }
 },
 "nbformat": 4,
 "nbformat_minor": 4
}
