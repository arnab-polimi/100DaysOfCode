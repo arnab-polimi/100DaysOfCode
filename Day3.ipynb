{
 "cells": [
  {
   "cell_type": "code",
   "execution_count": 8,
   "metadata": {},
   "outputs": [],
   "source": [
    "#Conditional Statements, Logic\n",
    "#Treasure Island Game\n"
   ]
  },
  {
   "cell_type": "code",
   "execution_count": 22,
   "metadata": {},
   "outputs": [],
   "source": [
    "import time"
   ]
  },
  {
   "cell_type": "code",
   "execution_count": 23,
   "metadata": {},
   "outputs": [
    {
     "data": {
      "text/plain": [
       "\"#check if the number input is odd or even\\n\\nnumber = input('Provide the number: \\n')\\nnumber = int(number)\\nif number % 2 == 0:\\n    print(str(number)+' is even \\n')\\nelse:\\n    print(str(number)+' is odd \\n')\\n\""
      ]
     },
     "execution_count": 23,
     "metadata": {},
     "output_type": "execute_result"
    }
   ],
   "source": [
    "\"\"\"#check if the number input is odd or even\n",
    "\n",
    "number = input('Provide the number: \\n')\n",
    "number = int(number)\n",
    "if number % 2 == 0:\n",
    "    print(str(number)+' is even \\n')\n",
    "else:\n",
    "    print(str(number)+' is odd \\n')\n",
    "\"\"\"\n",
    "    "
   ]
  },
  {
   "cell_type": "code",
   "execution_count": null,
   "metadata": {},
   "outputs": [
    {
     "name": "stdout",
     "output_type": "stream",
     "text": [
      "You have arrived on the gates of the Final Boss \n",
      "\n"
     ]
    }
   ],
   "source": [
    "print(\"You have arrived on the gates of the Final Boss \\n\")\n",
    "#time.sleep(1)\n",
    "direction = input(\"Where do you wanna go? Left or Right?\\n L for Left \\n R for Right \\n\")\n",
    "#time.sleep(1)\n",
    "if direction == 'L':\n",
    "    print(\"You have passed the first round \\n\")\n",
    "    action = input(\"Do you wanna swim or wait?\\n S for Swim \\n W for Wait \\n\")\n",
    "    if action == 'W':\n",
    "        print(\"Hmm, Interesting, you may go further ! \\n\")\n",
    "        door = input('Which door do you want to choose? \\n R for Red \\n B for Blue \\n Y for Yellow \\n')\n",
    "        if door == 'Y':\n",
    "            print(\"You WIN the treasure \\n\")\n",
    "        elif action == 'R':\n",
    "            print(\"GAME OVER, TRY AGAIN !\")\n",
    "        else:\n",
    "            print(\"GAME OVER, TRY AGAIN !\")\n",
    "    else:\n",
    "        print(\"You Drown in the water, sorry! \\n\")\n",
    "\n",
    "else:\n",
    "    print(\"GAME OVER!\")\n",
    "    \n",
    "    \n",
    "        \n",
    "\n"
   ]
  },
  {
   "cell_type": "code",
   "execution_count": null,
   "metadata": {},
   "outputs": [],
   "source": []
  },
  {
   "cell_type": "code",
   "execution_count": null,
   "metadata": {},
   "outputs": [],
   "source": []
  }
 ],
 "metadata": {
  "kernelspec": {
   "display_name": "Python 3",
   "language": "python",
   "name": "python3"
  },
  "language_info": {
   "codemirror_mode": {
    "name": "ipython",
    "version": 3
   },
   "file_extension": ".py",
   "mimetype": "text/x-python",
   "name": "python",
   "nbconvert_exporter": "python",
   "pygments_lexer": "ipython3",
   "version": "3.8.3"
  }
 },
 "nbformat": 4,
 "nbformat_minor": 4
}
